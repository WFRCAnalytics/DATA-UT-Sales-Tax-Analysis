{
 "cells": [
  {
   "cell_type": "markdown",
   "metadata": {},
   "source": [
    "# Quarterly Sales Tax Revenue Analysis\n",
    "\n",
    "### [Data Source](https://tax.utah.gov/econstats/sales)\n",
    "\n",
    "### Q3: January, February, March"
   ]
  },
  {
   "cell_type": "code",
   "execution_count": 1,
   "metadata": {},
   "outputs": [],
   "source": [
    "import pandas as pd\n",
    "import os\n",
    "import numpy as np\n",
    "import arcpy\n",
    "from arcgis.features import GeoAccessor, GeoSeriesAccessor\n",
    "arcpy.env.overwriteOutput = True"
   ]
  },
  {
   "cell_type": "code",
   "execution_count": 2,
   "metadata": {},
   "outputs": [],
   "source": [
    "# show all columns\n",
    "pd.options.display.max_columns = None"
   ]
  },
  {
   "cell_type": "code",
   "execution_count": 3,
   "metadata": {},
   "outputs": [],
   "source": [
    "# Removes misc characters from string\n",
    "def replace(string):\n",
    "    string = string.replace(\"&\", \"\")\n",
    "    string = string.replace(\"-\", \" \")\n",
    "    string = string.replace(\"(\", \"\")\n",
    "    string = string.replace(\")\", \"\")\n",
    "    string = string.replace(\"/\", \" \")\n",
    "    string = string.replace(\",\", \"\")\n",
    "    string = string.replace(\".\", \"\")\n",
    "    string = string.replace(\" \", \"_\")\n",
    "    return string\n"
   ]
  },
  {
   "cell_type": "markdown",
   "metadata": {},
   "source": [
    "### Load Q3 2020 sales tax revenue data"
   ]
  },
  {
   "cell_type": "code",
   "execution_count": 4,
   "metadata": {},
   "outputs": [
    {
     "data": {
      "text/html": [
       "<div>\n",
       "<style scoped>\n",
       "    .dataframe tbody tr th:only-of-type {\n",
       "        vertical-align: middle;\n",
       "    }\n",
       "\n",
       "    .dataframe tbody tr th {\n",
       "        vertical-align: top;\n",
       "    }\n",
       "\n",
       "    .dataframe thead th {\n",
       "        text-align: right;\n",
       "    }\n",
       "</style>\n",
       "<table border=\"1\" class=\"dataframe\">\n",
       "  <thead>\n",
       "    <tr style=\"text-align: right;\">\n",
       "      <th></th>\n",
       "      <th>County</th>\n",
       "      <th>Location Code</th>\n",
       "      <th>City</th>\n",
       "      <th>Economic Sector (NAICS Code)</th>\n",
       "      <th>2020Q3</th>\n",
       "      <th>Rounded Up</th>\n",
       "    </tr>\n",
       "  </thead>\n",
       "  <tbody>\n",
       "    <tr>\n",
       "      <th>0</th>\n",
       "      <td>Beaver County</td>\n",
       "      <td>1002.0</td>\n",
       "      <td>Beaver City</td>\n",
       "      <td>AGRICULTURE, FORESTRY, FISHING &amp; HUNTING (11)</td>\n",
       "      <td>80000.0</td>\n",
       "      <td>True</td>\n",
       "    </tr>\n",
       "    <tr>\n",
       "      <th>1</th>\n",
       "      <td>Beaver County</td>\n",
       "      <td>1002.0</td>\n",
       "      <td>Beaver City</td>\n",
       "      <td>UTILITIES (22)</td>\n",
       "      <td>700000.0</td>\n",
       "      <td>True</td>\n",
       "    </tr>\n",
       "    <tr>\n",
       "      <th>2</th>\n",
       "      <td>Beaver County</td>\n",
       "      <td>1002.0</td>\n",
       "      <td>Beaver City</td>\n",
       "      <td>CONSTRUCTION (23)</td>\n",
       "      <td>150000.0</td>\n",
       "      <td>True</td>\n",
       "    </tr>\n",
       "    <tr>\n",
       "      <th>3</th>\n",
       "      <td>Beaver County</td>\n",
       "      <td>1002.0</td>\n",
       "      <td>Beaver City</td>\n",
       "      <td>MANUFACTURING (31-33)</td>\n",
       "      <td>1880967.0</td>\n",
       "      <td>False</td>\n",
       "    </tr>\n",
       "    <tr>\n",
       "      <th>4</th>\n",
       "      <td>Beaver County</td>\n",
       "      <td>1002.0</td>\n",
       "      <td>Beaver City</td>\n",
       "      <td>WHOLESALE TRADE-DURABLE GOODS (423)</td>\n",
       "      <td>310250.0</td>\n",
       "      <td>False</td>\n",
       "    </tr>\n",
       "  </tbody>\n",
       "</table>\n",
       "</div>"
      ],
      "text/plain": [
       "          County  Location Code         City  \\\n",
       "0  Beaver County         1002.0  Beaver City   \n",
       "1  Beaver County         1002.0  Beaver City   \n",
       "2  Beaver County         1002.0  Beaver City   \n",
       "3  Beaver County         1002.0  Beaver City   \n",
       "4  Beaver County         1002.0  Beaver City   \n",
       "\n",
       "                    Economic Sector (NAICS Code)     2020Q3  Rounded Up  \n",
       "0  AGRICULTURE, FORESTRY, FISHING & HUNTING (11)    80000.0        True  \n",
       "1                                 UTILITIES (22)   700000.0        True  \n",
       "2                              CONSTRUCTION (23)   150000.0        True  \n",
       "3                          MANUFACTURING (31-33)  1880967.0       False  \n",
       "4            WHOLESALE TRADE-DURABLE GOODS (423)   310250.0       False  "
      ]
     },
     "execution_count": 4,
     "metadata": {},
     "output_type": "execute_result"
    }
   ],
   "source": [
    "# load excel sheet into a dataframe\n",
    "xlsx = '.\\\\Inputs\\\\2020-03-quarterly-sales.xlsx'\n",
    "q3_2020 = pd.read_excel(xlsx, sheet_name='Table 9', header=5)\n",
    "\n",
    "# Drop last empty two rows\n",
    "q3_2020.drop(q3_2020.tail(2).index,inplace=True)\n",
    "\n",
    "# forward fill values from merged cells\n",
    "q3_2020['County'] = q3_2020['County'].fillna(method='ffill')\n",
    "q3_2020['Location Code'] = q3_2020['Location Code'].fillna(method='ffill')\n",
    "q3_2020['City'] = q3_2020['City'].fillna(method='ffill')\n",
    "\n",
    "# Figures with less than 10 taxpayers have been rounded up per Tax Commission disclosure rules.\n",
    "# Rename column and convert values to boolean\n",
    "q3_2020.rename(columns={'Unnamed: 5':'Rounded Up'}, inplace=True)\n",
    "crosswalk = {'*':True, np.nan:False} # County_ID\n",
    "q3_2020['Rounded Up'] = q3_2020['Rounded Up'].map(crosswalk)\n",
    "\n",
    "q3_2020.head()\n"
   ]
  },
  {
   "cell_type": "code",
   "execution_count": 5,
   "metadata": {},
   "outputs": [
    {
     "ename": "ValueError",
     "evalue": "Length mismatch: Expected axis has 37 elements, new values have 38 elements",
     "output_type": "error",
     "traceback": [
      "\u001b[1;31m---------------------------------------------------------------------------\u001b[0m",
      "\u001b[1;31mValueError\u001b[0m                                Traceback (most recent call last)",
      "\u001b[1;32m<ipython-input-5-d887064cc3e1>\u001b[0m in \u001b[0;36m<module>\u001b[1;34m\u001b[0m\n\u001b[0;32m     15\u001b[0m \u001b[1;34m'R_NONSTORE_RETAIL_20'\u001b[0m\u001b[1;33m,\u001b[0m\u001b[1;34m'R_SPORT_HOBBY_20'\u001b[0m\u001b[1;33m,\u001b[0m\u001b[1;34m'L_SPECIAL_EVENT_20'\u001b[0m\u001b[1;33m,\u001b[0m\u001b[1;34m'W_DISTRIBUTION_20'\u001b[0m\u001b[1;33m,\u001b[0m\u001b[1;34m'X_UNKNOWN_20'\u001b[0m\u001b[1;33m,\u001b[0m\u001b[1;34m'U_UTILITIES_20'\u001b[0m\u001b[1;33m,\u001b[0m\u001b[1;33m\u001b[0m\u001b[1;33m\u001b[0m\u001b[0m\n\u001b[0;32m     16\u001b[0m 'W_WHLSALE_DURABLE_20','S_WHLSLE_ETRADE_20','W_WHLSLE_NDURABLE_20']\n\u001b[1;32m---> 17\u001b[1;33m \u001b[0msectors_q3_2020\u001b[0m\u001b[1;33m.\u001b[0m\u001b[0mcolumns\u001b[0m \u001b[1;33m=\u001b[0m \u001b[0mnew_names\u001b[0m\u001b[1;33m\u001b[0m\u001b[1;33m\u001b[0m\u001b[0m\n\u001b[0m\u001b[0;32m     18\u001b[0m \u001b[1;33m\u001b[0m\u001b[0m\n\u001b[0;32m     19\u001b[0m \u001b[1;31m# get the total sales tax revenue\u001b[0m\u001b[1;33m\u001b[0m\u001b[1;33m\u001b[0m\u001b[1;33m\u001b[0m\u001b[0m\n",
      "\u001b[1;32m~\\AppData\\Local\\ESRI\\conda\\envs\\arcgispro-py3-clone1\\lib\\site-packages\\pandas\\core\\generic.py\u001b[0m in \u001b[0;36m__setattr__\u001b[1;34m(self, name, value)\u001b[0m\n\u001b[0;32m   5285\u001b[0m         \u001b[1;32mtry\u001b[0m\u001b[1;33m:\u001b[0m\u001b[1;33m\u001b[0m\u001b[1;33m\u001b[0m\u001b[0m\n\u001b[0;32m   5286\u001b[0m             \u001b[0mobject\u001b[0m\u001b[1;33m.\u001b[0m\u001b[0m__getattribute__\u001b[0m\u001b[1;33m(\u001b[0m\u001b[0mself\u001b[0m\u001b[1;33m,\u001b[0m \u001b[0mname\u001b[0m\u001b[1;33m)\u001b[0m\u001b[1;33m\u001b[0m\u001b[1;33m\u001b[0m\u001b[0m\n\u001b[1;32m-> 5287\u001b[1;33m             \u001b[1;32mreturn\u001b[0m \u001b[0mobject\u001b[0m\u001b[1;33m.\u001b[0m\u001b[0m__setattr__\u001b[0m\u001b[1;33m(\u001b[0m\u001b[0mself\u001b[0m\u001b[1;33m,\u001b[0m \u001b[0mname\u001b[0m\u001b[1;33m,\u001b[0m \u001b[0mvalue\u001b[0m\u001b[1;33m)\u001b[0m\u001b[1;33m\u001b[0m\u001b[1;33m\u001b[0m\u001b[0m\n\u001b[0m\u001b[0;32m   5288\u001b[0m         \u001b[1;32mexcept\u001b[0m \u001b[0mAttributeError\u001b[0m\u001b[1;33m:\u001b[0m\u001b[1;33m\u001b[0m\u001b[1;33m\u001b[0m\u001b[0m\n\u001b[0;32m   5289\u001b[0m             \u001b[1;32mpass\u001b[0m\u001b[1;33m\u001b[0m\u001b[1;33m\u001b[0m\u001b[0m\n",
      "\u001b[1;32mpandas\\_libs\\properties.pyx\u001b[0m in \u001b[0;36mpandas._libs.properties.AxisProperty.__set__\u001b[1;34m()\u001b[0m\n",
      "\u001b[1;32m~\\AppData\\Local\\ESRI\\conda\\envs\\arcgispro-py3-clone1\\lib\\site-packages\\pandas\\core\\generic.py\u001b[0m in \u001b[0;36m_set_axis\u001b[1;34m(self, axis, labels)\u001b[0m\n\u001b[0;32m    659\u001b[0m \u001b[1;33m\u001b[0m\u001b[0m\n\u001b[0;32m    660\u001b[0m     \u001b[1;32mdef\u001b[0m \u001b[0m_set_axis\u001b[0m\u001b[1;33m(\u001b[0m\u001b[0mself\u001b[0m\u001b[1;33m,\u001b[0m \u001b[0maxis\u001b[0m\u001b[1;33m,\u001b[0m \u001b[0mlabels\u001b[0m\u001b[1;33m)\u001b[0m \u001b[1;33m->\u001b[0m \u001b[1;32mNone\u001b[0m\u001b[1;33m:\u001b[0m\u001b[1;33m\u001b[0m\u001b[1;33m\u001b[0m\u001b[0m\n\u001b[1;32m--> 661\u001b[1;33m         \u001b[0mself\u001b[0m\u001b[1;33m.\u001b[0m\u001b[0m_data\u001b[0m\u001b[1;33m.\u001b[0m\u001b[0mset_axis\u001b[0m\u001b[1;33m(\u001b[0m\u001b[0maxis\u001b[0m\u001b[1;33m,\u001b[0m \u001b[0mlabels\u001b[0m\u001b[1;33m)\u001b[0m\u001b[1;33m\u001b[0m\u001b[1;33m\u001b[0m\u001b[0m\n\u001b[0m\u001b[0;32m    662\u001b[0m         \u001b[0mself\u001b[0m\u001b[1;33m.\u001b[0m\u001b[0m_clear_item_cache\u001b[0m\u001b[1;33m(\u001b[0m\u001b[1;33m)\u001b[0m\u001b[1;33m\u001b[0m\u001b[1;33m\u001b[0m\u001b[0m\n\u001b[0;32m    663\u001b[0m \u001b[1;33m\u001b[0m\u001b[0m\n",
      "\u001b[1;32m~\\AppData\\Local\\ESRI\\conda\\envs\\arcgispro-py3-clone1\\lib\\site-packages\\pandas\\core\\internals\\managers.py\u001b[0m in \u001b[0;36mset_axis\u001b[1;34m(self, axis, new_labels)\u001b[0m\n\u001b[0;32m    176\u001b[0m         \u001b[1;32mif\u001b[0m \u001b[0mnew_len\u001b[0m \u001b[1;33m!=\u001b[0m \u001b[0mold_len\u001b[0m\u001b[1;33m:\u001b[0m\u001b[1;33m\u001b[0m\u001b[1;33m\u001b[0m\u001b[0m\n\u001b[0;32m    177\u001b[0m             raise ValueError(\n\u001b[1;32m--> 178\u001b[1;33m                 \u001b[1;34mf\"Length mismatch: Expected axis has {old_len} elements, new \"\u001b[0m\u001b[1;33m\u001b[0m\u001b[1;33m\u001b[0m\u001b[0m\n\u001b[0m\u001b[0;32m    179\u001b[0m                 \u001b[1;34mf\"values have {new_len} elements\"\u001b[0m\u001b[1;33m\u001b[0m\u001b[1;33m\u001b[0m\u001b[0m\n\u001b[0;32m    180\u001b[0m             )\n",
      "\u001b[1;31mValueError\u001b[0m: Length mismatch: Expected axis has 37 elements, new values have 38 elements"
     ]
    }
   ],
   "source": [
    "# pivot the table to get sectors as columns with tax values by city\n",
    "sectors_q3_2020 = pd.pivot_table(q3_2020,values = '2020Q3',index ='City', columns = 'Economic Sector (NAICS Code)', aggfunc='first')\n",
    "\n",
    "# fill NAs with 0\n",
    "sectors_q3_2020 = sectors_q3_2020.fillna(0)\n",
    "\n",
    "\n",
    "# fix column names\n",
    "#new_names = [replace(item) for item in list(sectors_q3_2020.columns)]\n",
    "new_names = ['L_ACCOMMODATION_20', 'S_ADMIN_SUPPORT_20','A_AG_WILDLIFE_20','L_CULTURAL_REC_20','C_CONSTRUCTION_20',\n",
    "'E_EDUCATION_20','S_FINANCIAL_20','L_RSTRNT_BAR_20','H_HEALTH_CARE_20','S_IT_DATA_20','S_CORPORATE_MGMT_20',\n",
    "'M_MANUFACTURING_20','E_EXTRACTION_20','O_OTHER_20','X_ADJUSTMENTS_20','R_AUTO_PRIVATE_20','S_PROF_TECH_SRV_20',\n",
    "'G_GOVERNMENT_20','S_RENTAL_LEASING_20','R_BUILDING_SUPPLY_20','R_CLOTHING_20','R_ELECTRONICS_20','R_GROCERY_BEV_20',\n",
    "'R_FURNITURE_20','R_GAS_STATIONS_20','R_GENERAL_RETAIL_20','R_HEALTH_RETAIL_20','R_OTHER_RETAIL_20','R_AUTO_RETAIL_20',\n",
    "'R_NONSTORE_RETAIL_20','R_SPORT_HOBBY_20','L_SPECIAL_EVENT_20','W_DISTRIBUTION_20','X_UNKNOWN_20','U_UTILITIES_20',\n",
    "'W_WHLSALE_DURABLE_20','S_WHLSLE_ETRADE_20','W_WHLSLE_NDURABLE_20']\n",
    "sectors_q3_2020.columns = new_names\n",
    "\n",
    "# get the total sales tax revenue\n",
    "sectors_q3_2020['TOTAL_20'] = sectors_q3_2020[new_names].sum(axis=1)\n",
    "\n",
    "sectors_q3_2020.head()"
   ]
  },
  {
   "cell_type": "markdown",
   "metadata": {},
   "source": [
    "### Load Q3 2019 sales tax revenue data"
   ]
  },
  {
   "cell_type": "code",
   "execution_count": null,
   "metadata": {},
   "outputs": [],
   "source": [
    "# load excel sheet into a dataframe\n",
    "xlsx = '.\\\\Inputs\\\\2019-01-quarterly-sales.xlsx'\n",
    "q3_2019 = pd.read_excel(xlsx, sheet_name='Table 9', header=5)\n",
    "\n",
    "# Drop last empty two rows\n",
    "q3_2019.drop(q3_2019.tail(2).index,inplace=True)\n",
    "\n",
    "# forward fill values from merged cells\n",
    "q3_2019['County'] = q3_2019['County'].fillna(method='ffill')\n",
    "q3_2019['Location Code'] = q3_2019['Location Code'].fillna(method='ffill')\n",
    "q3_2019['City'] = q3_2019['City'].fillna(method='ffill')\n",
    "\n",
    "# Figures with less than 10 taxpayers have been rounded up per Tax Commission disclosure rules.\n",
    "# Rename column and convert values to boolean\n",
    "q3_2019.rename(columns={'Unnamed: 5':'Rounded Up'}, inplace=True)\n",
    "crosswalk = {'*':True, np.nan:False} # County_ID\n",
    "q3_2019['Rounded Up'] = q3_2019['Rounded Up'].map(crosswalk)\n",
    "\n",
    "q3_2019.tail()"
   ]
  },
  {
   "cell_type": "code",
   "execution_count": null,
   "metadata": {},
   "outputs": [],
   "source": [
    "# pivot the table to get sectors as columns with tax values by city\n",
    "sectors_q3_2019 = pd.pivot_table(q3_2019,values = '2019Q3',index ='City', columns = 'Economic Sector (NAICS Code)', aggfunc='first')\n",
    "\n",
    "# fill NAs with 0\n",
    "sectors_q3_2019 = sectors_q3_2019.fillna(0)\n",
    "\n",
    "# fix column names\n",
    "#new_names = [replace(item) for item in list(sectors_q3_2019.columns)]\n",
    "new_names = ['L_ACCOMMODATION_19', 'S_ADMIN_SUPPORT_19','A_AG_WILDLIFE_19','L_CULTURAL_REC_19','C_CONSTRUCTION_19',\n",
    "'E_EDUCATION_19','S_FINANCIAL_19','L_RSTRNT_BAR_19','H_HEALTH_CARE_19','S_IT_DATA_19','S_CORPORATE_MGMT_19',\n",
    "'M_MANUFACTURING_19','E_EXTRACTION_19','O_OTHER_19','X_ADJUSTMENTS_19','R_AUTO_PRIVATE_19','S_PROF_TECH_SRV_19',\n",
    "'G_GOVERNMENT_19','S_RENTAL_LEASING_19','R_BUILDING_SUPPLY_19','R_CLOTHING_19','R_ELECTRONICS_19','R_GROCERY_BEV_19',\n",
    "'R_FURNITURE_19','R_GAS_STATIONS_19','R_GENERAL_RETAIL_19','R_HEALTH_RETAIL_19','R_OTHER_RETAIL_19','R_AUTO_RETAIL_19',\n",
    "'R_NONSTORE_RETAIL_19','R_SPORT_HOBBY_19','L_SPECIAL_EVENT_19','W_DISTRIBUTION_19','X_UNKNOWN_19','U_UTILITIES_19',\n",
    "'W_WHLSALE_DURABLE_19','S_WHLSLE_ETRADE_19','W_WHLSLE_NDURABLE_19']\n",
    "sectors_q3_2019.columns = new_names\n",
    "\n",
    "# get the total sales tax revenue\n",
    "sectors_q3_2019['TOTAL_19'] = sectors_q3_2019[new_names].sum(axis=1)\n",
    "\n",
    "sectors_q3_2019.head()"
   ]
  },
  {
   "cell_type": "markdown",
   "metadata": {},
   "source": [
    "### Calculate the differences \n",
    "*2020 - 2019 = Diff*"
   ]
  },
  {
   "cell_type": "code",
   "execution_count": null,
   "metadata": {},
   "outputs": [],
   "source": [
    "# merge the 2019-2020 difference with the sdf\n",
    "sectors_q3_diff = pd.DataFrame(sectors_q3_2020.values - sectors_q3_2019.values)\n",
    "\n",
    "# add back the column names\n",
    "new_names = ['L_ACCOMMODATION_D20', 'S_ADMIN_SUPPORT_D20','A_AG_WILDLIFE_D20','L_CULTURAL_REC_D20','C_CONSTRUCTION_D20',\n",
    "'E_EDUCATION_D20','S_FINANCIAL_D20','L_RSTRNT_BAR_D20','H_HEALTH_CARE_D20','S_IT_DATA_D20','S_CORPORATE_MGMT_D20',\n",
    "'M_MANUFACTURING_D20','E_EXTRACTION_D20','O_OTHER_D20','X_ADJUSTMENTS_D20','R_AUTO_PRIVATE_D20','S_PROF_TECH_SRV_D20',\n",
    "'G_GOVERNMENT_D20','S_RENTAL_LEASING_D20','R_BUILDING_SUPPLY_D20','R_CLOTHING_D20','R_ELECTRONICS_D20','R_GROCERY_BEV_D20',\n",
    "'R_FURNITURE_D20','R_GAS_STATIONS_D20','R_GENERAL_RETAIL_D20','R_HEALTH_RETAIL_D20','R_OTHER_RETAIL_D20','R_AUTO_RETAIL_D20',\n",
    "'R_NONSTORE_RETAIL_D20','R_SPORT_HOBBY_D20','L_SPECIAL_EVENT_D20','W_DISTRIBUTION_D20','X_UNKNOWN_D20','U_UTILITIES_D20',\n",
    "'W_WHLSALE_DURABLE_D20','S_WHLSLE_ETRADE_D20','W_WHLSLE_NDURABLE_D20', 'TOTAL_D20']\n",
    "\n",
    "sectors_q3_diff.columns = new_names\n",
    "\n",
    "# add back cities as index\n",
    "sectors_q3_diff['City'] = sectors_q3_2020.index\n",
    "sectors_q3_diff = sectors_q3_diff.set_index('City')\n",
    "\n",
    "#check table\n",
    "sectors_q3_diff.head(10)"
   ]
  },
  {
   "cell_type": "code",
   "execution_count": null,
   "metadata": {},
   "outputs": [],
   "source": [
    "# Check join output shape\n",
    "print(sectors_q3_2019.shape)\n",
    "print(sectors_q3_2020.shape)\n",
    "print(sectors_q3_diff.shape)"
   ]
  },
  {
   "cell_type": "markdown",
   "metadata": {},
   "source": [
    "### Load municipalities and townships shapefile and join to formatted sales tax data"
   ]
  },
  {
   "cell_type": "code",
   "execution_count": null,
   "metadata": {},
   "outputs": [],
   "source": [
    "# load cities shapefile into pandas spatial dataframe\n",
    "cities_shp = '.\\\\Inputs\\\\Cities.shp'\n",
    "cities_sdf = pd.DataFrame.spatial.from_featureclass(cities_shp)\n",
    "\n",
    "# Rename columns\n",
    "cities_sdf.columns = ['FID', 'NAME', 'SOURCE', 'SALESTAXID', 'POPLASTCEN', 'POPLASTEST',\n",
    "       'AREA_SQMI', 'SHAPE']"
   ]
  },
  {
   "cell_type": "code",
   "execution_count": null,
   "metadata": {},
   "outputs": [],
   "source": [
    "# merge the 2020 sdf with the pivoted data\n",
    "cities_sdf2 = cities_sdf.merge(sectors_q3_2019, left_on= \"NAME\", right_on=\"City\", how=\"inner\")\n",
    "cities_sdf2 = cities_sdf2.merge(sectors_q3_2020, left_on= \"NAME\", right_on=\"City\", how=\"inner\")\n",
    "cities_sdf2 = cities_sdf2.merge(sectors_q3_diff, left_on= \"NAME\", right_on=\"City\", how=\"inner\")\n",
    "cities_sdf2.tail(10)\n"
   ]
  },
  {
   "cell_type": "code",
   "execution_count": null,
   "metadata": {},
   "outputs": [],
   "source": [
    "# Confirm join count, Salt Lake County (Unincorporated) should be the only one not joined\n",
    "l1 = list(q3_2020['City'].value_counts().index)\n",
    "l2 = list(cities_sdf['NAME'].value_counts().index)\n",
    "list(set(l1) - set(l2))"
   ]
  },
  {
   "cell_type": "code",
   "execution_count": null,
   "metadata": {},
   "outputs": [],
   "source": [
    "# Create file gdb and export sdf to feature class\n",
    "outputs = '.\\\\Outputs'\n",
    "\n",
    "gdb = os.path.join(outputs, \"taxable_sales.gdb\")\n",
    "if not arcpy.Exists(gdb):\n",
    "    arcpy.CreateFileGDB_management(outputs, \"taxable_sales.gdb\")\n",
    "\n",
    "cities_sdf2.spatial.to_featureclass(location=os.path.join(outputs, \"taxable_sales.gdb\",\"taxable_sales_utah_q3\"))"
   ]
  },
  {
   "cell_type": "markdown",
   "metadata": {},
   "source": [
    "### Analysis"
   ]
  },
  {
   "cell_type": "code",
   "execution_count": null,
   "metadata": {},
   "outputs": [],
   "source": [
    "# Get year specific column names\n",
    "standard_cols = ['fid','name','source','salestaxid','poplastcen','poplastcen','area_sqmi', 'SHAPE']\n",
    "names_19 = standard_cols + [col for col in cities_sdf2.columns if '_19' in col]\n",
    "names_20 = standard_cols + [col for col in cities_sdf2.columns if '_20' in col]\n",
    "names_D20 = standard_cols + [col for col in cities_sdf2.columns if '_d20' in col]\n",
    "\n",
    "# subset columns by time\n",
    "cities_q3_19 = cities_sdf2[names_19]\n",
    "cities_q3_20 = cities_sdf2[names_20]\n",
    "cities_q3_d20 = cities_sdf2[names_D20]\n"
   ]
  },
  {
   "cell_type": "code",
   "execution_count": null,
   "metadata": {},
   "outputs": [],
   "source": [
    "# 10 cities with smallest difference of revenue\n",
    "cities_q3_d20[['name', 'poplastcen', 'area_sqmi', 'total_d20']].sort_values('total_d20', ascending=False).head(10)"
   ]
  },
  {
   "cell_type": "code",
   "execution_count": null,
   "metadata": {},
   "outputs": [],
   "source": [
    "# 10 cities with largest difference of revenue\n",
    "cities_q3_d20[['name', 'poplastcen', 'area_sqmi', 'total_d20']].sort_values('total_d20', ascending=True).head(10)"
   ]
  },
  {
   "cell_type": "markdown",
   "metadata": {},
   "source": [
    "#### Some industries of interest:\n",
    "- RETAIL-GASOLINE STATIONS (447)\n",
    "- RETAIL-FOOD & BEVERAGE STORES (445)\n",
    "- REAL ESTATE, RENTAL & LEASING (53)\n",
    "- ARTS, ENTERTAINMENT AND RECREATION (71)\n",
    "- ACCOMMODATION (721)"
   ]
  }
 ],
 "metadata": {
  "kernelspec": {
   "display_name": "Python 3",
   "language": "python",
   "name": "python3"
  },
  "language_info": {
   "codemirror_mode": {
    "name": "ipython",
    "version": 3
   },
   "file_extension": ".py",
   "mimetype": "text/x-python",
   "name": "python",
   "nbconvert_exporter": "python",
   "pygments_lexer": "ipython3",
   "version": "3.6.10"
  }
 },
 "nbformat": 4,
 "nbformat_minor": 4
}
