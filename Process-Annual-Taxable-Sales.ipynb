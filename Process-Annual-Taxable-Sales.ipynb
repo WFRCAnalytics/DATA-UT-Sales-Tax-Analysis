{
 "cells": [
  {
   "attachments": {},
   "cell_type": "markdown",
   "metadata": {},
   "source": [
    "### Annual Sales Tax Revenue Analysis\n",
    "\n",
    "#### [Data Source](https://tax.utah.gov/econstats/sales)\n",
    "\n",
    "#### Notes:\n"
   ]
  },
  {
   "cell_type": "code",
   "execution_count": 19,
   "metadata": {},
   "outputs": [],
   "source": [
    "import arcpy\n",
    "from arcpy import env\n",
    "import os\n",
    "import numpy as np\n",
    "from arcgis import GIS\n",
    "from arcgis.features import GeoAccessor\n",
    "from arcgis.features import GeoSeriesAccessor\n",
    "import pandas as pd\n",
    "import glob\n",
    "\n",
    "arcpy.env.overwriteOutput = True\n",
    "arcpy.env.parallelProcessingFactor = \"90%\"\n",
    "\n",
    "# show all columns\n",
    "pd.options.display.max_columns = None\n",
    "\n",
    "# pd.DataFrame.spatial.from_featureclass(???)  \n",
    "# df.spatial.to_featureclass(location=???,sanitize_columns=False)  \n",
    "\n",
    "# gsa = arcgis.features.GeoSeriesAccessor(df['SHAPE'])  \n",
    "# df['AREA'] = gsa.area  # KNOW YOUR UNITS"
   ]
  },
  {
   "cell_type": "code",
   "execution_count": 31,
   "metadata": {},
   "outputs": [],
   "source": [
    "if not os.path.exists('Outputs'):\n",
    "    os.makedirs('Outputs')\n",
    "    \n",
    "outputs = ['.\\\\Outputs', 'Utah.gdb']\n",
    "gdb = os.path.join(outputs[0], outputs[1])\n",
    "\n",
    "if not arcpy.Exists(gdb):\n",
    "    arcpy.CreateFileGDB_management(outputs[0], outputs[1])\n"
   ]
  },
  {
   "cell_type": "code",
   "execution_count": 35,
   "metadata": {},
   "outputs": [],
   "source": [
    "# read in cities as spatial dataframe\n",
    "global cities_sdf\n",
    "cities_sdf = pd.DataFrame.spatial.from_featureclass(r\".\\Inputs\\Cities_v2.shp\")\n",
    "cities_sdf = cities_sdf[['NAME','POPLASTCEN','POPLASTEST', 'ACRES','SHAPE']].copy()\n",
    "cities_sdf.rename({'NAME':'City'}, axis=1, inplace=True)"
   ]
  },
  {
   "cell_type": "code",
   "execution_count": 22,
   "metadata": {},
   "outputs": [],
   "source": [
    "# dictionary for renaming tax revenue sectors\n",
    "global sector_lu\n",
    "sector_lu= {\n",
    "              'ACCOMMODATION (721)':'L_ACCOMMODATION',\n",
    "              'ADMIN. & SUPPORT & WASTE MANAG. & REMED. SERVICES (56)':'S_ADMIN_SUPPORT',\n",
    "              'AGRICULTURE, FORESTRY, FISHING & HUNTING (11)':'A_AG_WILDLIFE',\n",
    "              'ARTS, ENTERTAINMENT AND RECREATION (71)':'L_CULTURAL_REC', \n",
    "              'CONSTRUCTION (23)':'C_CONSTRUCTION',\n",
    "              'EDUCATIONAL SERVICES (61)':'E_EDUCATION', \n",
    "              'FINANCE & INSURANCE (52)':'S_FINANCIAL',\n",
    "              'FOOD SERVICES & DRINKING PLACES (722)':'L_RSTRNT_BAR',\n",
    "              'HEALTH CARE & SOCIAL ASSISTANCE (62)':'H_HEALTH_CARE', \n",
    "              'INFORMATION (51)':'S_IT_DATA_20',\n",
    "              'MANAGEMENT OF COMPANIES & ENTERPRISES (55)':'S_CORPORATE_MGMT', \n",
    "              'MANUFACTURING (31-33)':'M_MANUFACTURING',\n",
    "              'MINING, QUARRYING, & OIL & GAS EXTRACTION (21)':'E_EXTRACTION',\n",
    "              'OTHER SERVICES-EXCEPT PUBLIC ADMINISTRATION (81)':'O_OTHER',\n",
    "              'PRIOR-PERIOD PAYMENTS & REFUNDS':'X_ADJUSTMENTS', \n",
    "              'PRIVATE MOTOR VEHICLE SALES':'R_AUTO_PRIVATE',\n",
    "              'PROFESSIONAL, SCIENTIFIC & TECHNICAL SERVICES (54)':'S_PROF_TECH_SRV',\n",
    "              'PUBLIC ADMINISTRATION (92)':'G_GOVERNMENT', \n",
    "              'REAL ESTATE, RENTAL & LEASING (53)':'S_RENTAL_LEASING',\n",
    "              'RETAIL-BUILD. MATERIAL, GARDEN EQUIP. & SUPPLIES DEALERS (444)':'R_BUILDING_SUPPLY',\n",
    "              'RETAIL-CLOTHING & CLOTHING ACCESSORIES STORES (448)':'R_CLOTHING',\n",
    "              'RETAIL-CLOTHING & CLOTHING ACCESSORIES STORES (448,458)':'R_CLOTHING',\n",
    "              'RETAIL-ELECTRONICS & APPLIANCE STORES (443)':'R_ELECTRONICS',\n",
    "              'RETAIL-ELECTRONICS & APPLIANCE STORES (443,4492)':'R_ELECTRONICS',\n",
    "              'RETAIL-FOOD & BEVERAGE STORES (445)':'R_GROCERY_BEV',\n",
    "              'RETAIL-FURNITURE & HOME FURNISHINGS STORES (442)':'R_FURNITURE',\n",
    "              'RETAIL-FURNITURE & HOME FURNISHINGS STORES (442,4491)':'R_FURNITURE',\n",
    "              'RETAIL-GASOLINE STATIONS (447)':'R_GAS_STATIONS',\n",
    "              'RETAIL-GASOLINE STATIONS (447,457)': 'R_GAS_STATIONS',\n",
    "              'RETAIL-GENERAL MERCHANDISE STORES (452)':'R_GENERAL_RETAIL',\n",
    "              'RETAIL-GENERAL MERCHANDISE STORES (452,455)':'R_GENERAL_RETAIL',\n",
    "              'RETAIL-HEALTH & PERSONAL CARE STORES (446)':'R_HEALTH_RETAIL',\n",
    "              'RETAIL-HEALTH & PERSONAL CARE STORES (446,456)':'R_HEALTH_RETAIL',\n",
    "              'RETAIL-MISCELLANEOUS STORE RETAILERS (453)':'R_OTHER_RETAIL',\n",
    "              'RETAIL-MISCELLANEOUS STORE RETAILERS (453,4593-4599)':'R_OTHER_RETAIL',\n",
    "              'RETAIL-MOTOR VEHICLE & PARTS DEALERS (441)':'R_AUTO_RETAIL',\n",
    "              'RETAIL-NONSTORE RETAILERS (454)':'R_NONSTORE_RETAIL',\n",
    "              'RETAIL-SPORTING GOODS, HOBBY, MUSIC & BOOK STORES (451)':'R_SPORT_HOBBY',\n",
    "              'RETAIL-SPORTING GOODS, HOBBY, MUSIC & BOOK STORES (451,4591,4592)':'R_SPORT_HOBBY',\n",
    "              'SPECIAL EVENT SALES':'L_SPECIAL_EVENT', \n",
    "              'TRANSPORTATION & WAREHOUSING (48-49)':'W_DISTRIBUTION',\n",
    "              'UNKNOWN/NONCLASSIFIABLE':'X_UNKNOWN', \n",
    "              'UTILITIES (22)':'U_UTILITIES',\n",
    "              'WHOLESALE TRADE-DURABLE GOODS (423)':'W_WHLSALE_DURABLE',\n",
    "              'WHOLESALE TRADE-ELECTRONIC MARKETS (425)':'S_WHLSLE_ETRADE',\n",
    "              'WHOLESALE TRADE-AGENTS & BROKERS (425)':'S_WHLSLE_ETRADE',\n",
    "              'WHOLESALE TRADE-NONDURABLE GOODS (424)':'W_WHLSLE_NDURABLE'            \n",
    "}"
   ]
  },
  {
   "cell_type": "code",
   "execution_count": 23,
   "metadata": {},
   "outputs": [],
   "source": [
    "# fill NA values in Spatially enabled dataframes (ignores SHAPE column)\n",
    "def fill_na_sedf(df_with_shape_column, fill_value=0):\n",
    "    if 'SHAPE' in list(df_with_shape_column.columns):\n",
    "        df = df_with_shape_column.copy()\n",
    "        shape_column = df['SHAPE'].copy()\n",
    "        del df['SHAPE']\n",
    "        return df.fillna(fill_value).merge(shape_column,left_index=True, right_index=True, how='inner')\n",
    "    else:\n",
    "        raise Exception(\"Dataframe does not include 'SHAPE' column\")"
   ]
  },
  {
   "cell_type": "code",
   "execution_count": 26,
   "metadata": {},
   "outputs": [],
   "source": [
    "def process_annual_sales_to_shape(_xlsx, _gdb):\n",
    "    \n",
    "    year = os.path.split(_xlsx)[-1][:4]\n",
    "    tsr = pd.read_excel(_xlsx, sheet_name='Table 9', header=5)\n",
    "\n",
    "    # Drop last empty two rows\n",
    "    tsr.drop(tsr.tail(2).index,inplace=True)\n",
    "\n",
    "    # forward fill values from merged cells\n",
    "    tsr['County'] = tsr['County'].fillna(method='ffill')\n",
    "    tsr['Location Code'] = tsr['Location Code'].fillna(method='ffill')\n",
    "    tsr['City'] = tsr['City'].fillna(method='ffill')\n",
    "\n",
    "    # Figures with less than 10 taxpayers have been rounded up per Tax Commission disclosure rules.\n",
    "    # Rename column and convert values to boolean\n",
    "    tsr.rename(columns={'Unnamed: 5':'Rounded_Up'}, inplace=True)\n",
    "    crosswalk = {'*':True, np.nan:False}\n",
    "    tsr['Rounded_Up'] = tsr['Rounded_Up'].map(crosswalk)\n",
    "\n",
    "    # pivot the table to get sectors as columns with tax values by city\n",
    "    tsr_by_sector = pd.pivot_table(tsr,values = f'CY{year}', index ='City', columns = 'Economic Sector (NAICS Code)', \n",
    "                                    aggfunc='first').reset_index()\n",
    "\n",
    "    # fill NAs with 0\n",
    "    tsr_by_sector = tsr_by_sector.fillna(0)\n",
    "\n",
    "    # rename sectors\n",
    "    _sector_lu = sector_lu\n",
    "    _sector_lu = {k:v + f\"_{year[-2:]}\" for (k,v) in _sector_lu.items()}\n",
    "    tsr_by_sector.rename(_sector_lu, axis=1, inplace=True)\n",
    "\n",
    "    # get the total sales tax revenue\n",
    "    tsr_by_sector['TOTAL'] = tsr_by_sector[_sector_lu.values()].sum(axis=1)\n",
    "\n",
    "    # export\n",
    "    tsr_by_sector_sdf = cities_sdf.merge(tsr_by_sector, on='City', how='inner')\n",
    "    return tsr_by_sector_sdf.spatial.to_featureclass(location=os.path.join(_gdb,f'Taxable_Sales_by_City_{year}'),sanitize_columns=False)\n"
   ]
  },
  {
   "cell_type": "code",
   "execution_count": 38,
   "metadata": {},
   "outputs": [],
   "source": [
    "def process_annual_sales_to_df(_xlsx):\n",
    "    \n",
    "    year = os.path.split(_xlsx)[-1][:4]\n",
    "    tsr = pd.read_excel(_xlsx, sheet_name='Table 9', header=5)\n",
    "\n",
    "    # Drop last empty two rows\n",
    "    tsr.drop(tsr.tail(2).index,inplace=True)\n",
    "\n",
    "    # forward fill values from merged cells\n",
    "    tsr['County'] = tsr['County'].fillna(method='ffill')\n",
    "    tsr['Location Code'] = tsr['Location Code'].fillna(method='ffill')\n",
    "    tsr['City'] = tsr['City'].fillna(method='ffill')\n",
    "\n",
    "    # Figures with less than 10 taxpayers have been rounded up per Tax Commission disclosure rules.\n",
    "    # Rename column and convert values to boolean\n",
    "    tsr.rename(columns={'Unnamed: 5':'Rounded_Up'}, inplace=True)\n",
    "    crosswalk = {'*':True, np.nan:False}\n",
    "    tsr['Rounded_Up'] = tsr['Rounded_Up'].map(crosswalk)\n",
    "\n",
    "    # pivot the table to get sectors as columns with tax values by city\n",
    "    tsr_by_sector = pd.pivot_table(tsr,values = f'CY{year}', index ='City', columns = 'Economic Sector (NAICS Code)', \n",
    "                                    aggfunc='first').reset_index()\n",
    "\n",
    "    # fill NAs with 0\n",
    "    tsr_by_sector = tsr_by_sector.fillna(0)\n",
    "\n",
    "    # rename sectors\n",
    "    _sector_lu = sector_lu\n",
    "    _sector_lu = {k:v + f\"_{year[-2:]}\" for (k,v) in _sector_lu.items()}\n",
    "    tsr_by_sector.rename(_sector_lu, axis=1, inplace=True)\n",
    "\n",
    "    # get the total sales tax revenue\n",
    "    tsr_by_sector[f'TOTAL_{year[-2:]}'] = tsr_by_sector[_sector_lu.values()].sum(axis=1)\n",
    "\n",
    "    # export\n",
    "    return tsr_by_sector"
   ]
  },
  {
   "cell_type": "code",
   "execution_count": 39,
   "metadata": {},
   "outputs": [
    {
     "data": {
      "text/plain": [
       "'e:\\\\Projects\\\\UT_Sales_Tax_Analysis\\\\Outputs\\\\Utah.gdb\\\\Taxable_Sales_by_City'"
      ]
     },
     "execution_count": 39,
     "metadata": {},
     "output_type": "execute_result"
    }
   ],
   "source": [
    "# gather annual taxable sales reports\n",
    "reports = glob.glob('.\\\\Inputs\\\\*-annual-sales.xlsx')\n",
    "reports = [r for r in reports if '~' not in r] # in case the spreadsheet is open\n",
    "\n",
    "base = cities_sdf\n",
    "\n",
    "# export to shape\n",
    "for r in reports:\n",
    "    tsr = process_annual_sales_to_df(r)\n",
    "    base = base.merge(tsr, on='City', how='left')\n",
    "\n",
    "base.spatial.to_featureclass(location=os.path.join(gdb,'Taxable_Sales_by_City'),sanitize_columns=False)"
   ]
  },
  {
   "cell_type": "markdown",
   "metadata": {},
   "source": [
    "# Graveyard"
   ]
  },
  {
   "cell_type": "code",
   "execution_count": null,
   "metadata": {},
   "outputs": [],
   "source": [
    "# # read in taxable sales report (excel format)\n",
    "# xlsx = '.\\\\Inputs\\\\2021-annual-sales.xlsx'\n",
    "# year = os.path.split(xlsx)[-1][:4]\n",
    "# tsr = pd.read_excel(xlsx, sheet_name='Table 9', header=5)"
   ]
  },
  {
   "cell_type": "code",
   "execution_count": null,
   "metadata": {},
   "outputs": [],
   "source": [
    "# # Drop last empty two rows\n",
    "# tsr.drop(tsr.tail(2).index,inplace=True)\n",
    "\n",
    "# # forward fill values from merged cells\n",
    "# tsr['County'] = tsr['County'].fillna(method='ffill')\n",
    "# tsr['Location Code'] = tsr['Location Code'].fillna(method='ffill')\n",
    "# tsr['City'] = tsr['City'].fillna(method='ffill')"
   ]
  },
  {
   "cell_type": "code",
   "execution_count": null,
   "metadata": {},
   "outputs": [],
   "source": [
    "# # Figures with less than 10 taxpayers have been rounded up per Tax Commission disclosure rules.\n",
    "# # Rename column and convert values to boolean\n",
    "# tsr.rename(columns={'Unnamed: 5':'Rounded_Up'}, inplace=True)\n",
    "# crosswalk = {'*':True, np.nan:False}\n",
    "# tsr['Rounded_Up'] = tsr['Rounded_Up'].map(crosswalk)"
   ]
  },
  {
   "cell_type": "code",
   "execution_count": null,
   "metadata": {},
   "outputs": [],
   "source": [
    "# # pivot the table to get sectors as columns with tax values by city\n",
    "# tsr_by_sector = pd.pivot_table(tsr,values = f'CY{year}', index ='City', columns = 'Economic Sector (NAICS Code)', \n",
    "#                                  aggfunc='first').reset_index()\n",
    "\n",
    "# # fill NAs with 0\n",
    "# tsr_by_sector = tsr_by_sector.fillna(0)"
   ]
  },
  {
   "cell_type": "code",
   "execution_count": null,
   "metadata": {},
   "outputs": [],
   "source": [
    "# # rename sectors\n",
    "# tsr_by_sector.rename(sector_lu, axis=1, inplace=True)\n",
    "\n",
    "# # get the total sales tax revenue\n",
    "# tsr_by_sector['TOTAL'] = tsr_by_sector[sector_lu.values()].sum(axis=1)\n",
    "# tsr_by_sector"
   ]
  },
  {
   "cell_type": "code",
   "execution_count": null,
   "metadata": {},
   "outputs": [],
   "source": [
    "# cities_sdf = pd.DataFrame.spatial.from_featureclass(r\".\\Inputs\\Cities_v2.shp\")\n",
    "# cities_sdf = cities_sdf[['NAME','POPLASTCEN','POPLASTEST','SHAPE']].copy()\n",
    "# cities_sdf.rename({'NAME':'City'}, axis=1, inplace=True)\n",
    "# tsr_by_sector_sdf = cities_sdf.merge(tsr_by_sector, on='City', how='inner')\n",
    "# tsr_by_sector_sdf.spatial.to_featureclass(location=os.path.join(gdb2,f'Taxable_Sales_by_City_{year}'),sanitize_columns=False)"
   ]
  },
  {
   "cell_type": "markdown",
   "metadata": {},
   "source": [
    "### Calculate the differences \n",
    "*2020 - 2019 = Diff*"
   ]
  }
 ],
 "metadata": {
  "kernelspec": {
   "display_name": "Python 3.7.11",
   "language": "python",
   "name": "python3"
  },
  "language_info": {
   "codemirror_mode": {
    "name": "ipython",
    "version": 3
   },
   "file_extension": ".py",
   "mimetype": "text/x-python",
   "name": "python",
   "nbconvert_exporter": "python",
   "pygments_lexer": "ipython3",
   "version": "3.9.11"
  },
  "vscode": {
   "interpreter": {
    "hash": "3245673af07dcc28bdd829afb187282e9288a1f8195a5928b70ecba6e5973721"
   }
  }
 },
 "nbformat": 4,
 "nbformat_minor": 4
}
