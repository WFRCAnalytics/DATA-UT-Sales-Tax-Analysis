{
 "cells": [
  {
   "cell_type": "markdown",
   "metadata": {},
   "source": [
    "#### Annual Sales Tax Revenue Analysis\n",
    "\n",
    "### [Data Source](https://tax.utah.gov/econstats/sales)\n",
    "\n",
    "### Cal Year\n",
    "\n",
    "### Notes:\n"
   ]
  },
  {
   "cell_type": "code",
   "execution_count": null,
   "metadata": {},
   "outputs": [],
   "source": [
    "import pandas as pd\n",
    "import os\n",
    "import numpy as np\n",
    "import arcpy\n",
    "from arcgis.features import GeoAccessor, GeoSeriesAccessor\n",
    "arcpy.env.overwriteOutput = True"
   ]
  },
  {
   "cell_type": "code",
   "execution_count": null,
   "metadata": {},
   "outputs": [],
   "source": [
    "# show all columns\n",
    "pd.options.display.max_columns = None"
   ]
  },
  {
   "cell_type": "code",
   "execution_count": null,
   "metadata": {},
   "outputs": [],
   "source": [
    "# Removes misc characters from string\n",
    "def replace(string):\n",
    "    string = string.replace(\"&\", \"\")\n",
    "    string = string.replace(\"-\", \" \")\n",
    "    string = string.replace(\"(\", \"\")\n",
    "    string = string.replace(\")\", \"\")\n",
    "    string = string.replace(\"/\", \" \")\n",
    "    string = string.replace(\",\", \"\")\n",
    "    string = string.replace(\".\", \"\")\n",
    "    string = string.replace(\" \", \"_\")\n",
    "    return string\n"
   ]
  },
  {
   "cell_type": "markdown",
   "metadata": {},
   "source": [
    "### Load Cal Year 2020\n",
    "2020 sales tax revenue data"
   ]
  },
  {
   "cell_type": "code",
   "execution_count": null,
   "metadata": {},
   "outputs": [],
   "source": [
    "# load excel sheet into a dataframe\n",
    "xlsx = '.\\\\Inputs\\\\2020-annual-sales.xlsx'\n",
    "calyr_2020 = pd.read_excel(xlsx, sheet_name='Table 9', header=5, converters={'County':'object', 'Location Code':'object','City':'object', 'Economic Sector (NAICS Code)':'object', 'CY2020':pd.to_numeric})\n",
    "\n",
    "# Drop last empty two rows\n",
    "calyr_2020.drop(calyr_2020.tail(2).index,inplace=True)\n",
    "\n",
    "# forward fill values from merged cells\n",
    "calyr_2020['County'] = calyr_2020['County'].fillna(method='ffill')\n",
    "calyr_2020['Location Code'] = calyr_2020['Location Code'].fillna(method='ffill')\n",
    "calyr_2020['City'] = calyr_2020['City'].fillna(method='ffill')\n",
    "\n",
    "# Figures with less than 10 taxpayers have been rounded up per Tax Commission disclosure rules.\n",
    "# Rename column and convert values to boolean\n",
    "calyr_2020.rename(columns={'Unnamed: 5':'Rounded Up'}, inplace=True)\n",
    "crosswalk = {'*':True, np.nan:False} # County_ID\n",
    "calyr_2020['Rounded Up'] = calyr_2020['Rounded Up'].map(crosswalk)\n",
    "\n",
    "calyr_2020.head()\n"
   ]
  },
  {
   "cell_type": "code",
   "execution_count": null,
   "metadata": {},
   "outputs": [],
   "source": [
    "# pivot the table to get sectors as columns with tax values by city\n",
    "sectors_calyr_2020 = pd.pivot_table(calyr_2020,values = 'CY2020',index ='City', columns = 'Economic Sector (NAICS Code)', \n",
    "                                 aggfunc='first')\n",
    "\n",
    "# fill NAs with 0\n",
    "sectors_calyr_2020 = sectors_calyr_2020.fillna(0)"
   ]
  },
  {
   "cell_type": "code",
   "execution_count": null,
   "metadata": {},
   "outputs": [],
   "source": [
    "sectors_calyr_2020.columns"
   ]
  },
  {
   "cell_type": "code",
   "execution_count": null,
   "metadata": {},
   "outputs": [],
   "source": [
    "# fix column names\n",
    "#new_names = [replace(item) for item in list(sectors_q4_2020.columns)]\n",
    "new_names = ['L_ACCOMMODATION_20', 'S_ADMIN_SUPPORT_20','A_AG_WILDLIFE_20','L_CULTURAL_REC_20','C_CONSTRUCTION_20',\n",
    "'E_EDUCATION_20','S_FINANCIAL_20','L_RSTRNT_BAR_20','H_HEALTH_CARE_20','S_IT_DATA_20','S_CORPORATE_MGMT_20',\n",
    "'M_MANUFACTURING_20','E_EXTRACTION_20','O_OTHER_20','X_ADJUSTMENTS_20','R_AUTO_PRIVATE_20','S_PROF_TECH_SRV_20',\n",
    "'G_GOVERNMENT_20','S_RENTAL_LEASING_20','R_BUILDING_SUPPLY_20','R_CLOTHING_20','R_ELECTRONICS_20','R_GROCERY_BEV_20',\n",
    "'R_FURNITURE_20','R_GAS_STATIONS_20','R_GENERAL_RETAIL_20','R_HEALTH_RETAIL_20','R_OTHER_RETAIL_20','R_AUTO_RETAIL_20',\n",
    "'R_NONSTORE_RETAIL_20','R_SPORT_HOBBY_20','L_SPECIAL_EVENT_20','W_DISTRIBUTION_20','X_UNKNOWN_20','U_UTILITIES_20',\n",
    "'W_WHLSALE_DURABLE_20','S_WHLSLE_ETRADE_20','W_WHLSLE_NDURABLE_20']\n",
    "sectors_calyr_2020.columns = new_names\n",
    "\n",
    "# get the total sales tax revenue\n",
    "sectors_calyr_2020['TOTAL_20'] = sectors_calyr_2020[new_names].sum(axis=1)\n",
    "\n",
    "sectors_calyr_2020.head()"
   ]
  },
  {
   "cell_type": "markdown",
   "metadata": {},
   "source": [
    "#### Load Q4 2019 sales tax revenue data"
   ]
  },
  {
   "cell_type": "code",
   "execution_count": null,
   "metadata": {},
   "outputs": [],
   "source": [
    "# load excel sheet into a dataframe\n",
    "xlsx = '.\\\\Inputs\\\\2019-annual-sales.xlsx'\n",
    "calyr_2019 = pd.read_excel(xlsx, sheet_name='Table 9', header=5)\n",
    "\n",
    "# Drop last empty two rows\n",
    "calyr_2019.drop(calyr_2019.tail(2).index,inplace=True)\n",
    "\n",
    "# forward fill values from merged cells\n",
    "calyr_2019['County'] = calyr_2019['County'].fillna(method='ffill')\n",
    "calyr_2019['Location Code'] = calyr_2019['Location Code'].fillna(method='ffill')\n",
    "calyr_2019['City'] = calyr_2019['City'].fillna(method='ffill')\n",
    "\n",
    "# Figures with less than 10 taxpayers have been rounded up per Tax Commission disclosure rules.\n",
    "# Rename column and convert values to boolean\n",
    "calyr_2019.rename(columns={'Unnamed: 5':'Rounded Up'}, inplace=True)\n",
    "crosswalk = {'*':True, np.nan:False} # County_ID\n",
    "calyr_2019['Rounded Up'] = calyr_2019['Rounded Up'].map(crosswalk)\n",
    "\n",
    "calyr_2019.tail()"
   ]
  },
  {
   "cell_type": "code",
   "execution_count": null,
   "metadata": {},
   "outputs": [],
   "source": [
    "# pivot the table to get sectors as columns with tax values by city\n",
    "sectors_calyr_2019 = pd.pivot_table(calyr_2019,values = 'CY2019',index ='City', columns = 'Economic Sector (NAICS Code)', \n",
    "                                 aggfunc='first')\n",
    "\n",
    "# fill NAs with 0\n",
    "sectors_calyr_2019 = sectors_calyr_2019.fillna(0)\n",
    "\n",
    "# fix column names\n",
    "#new_names = [replace(item) for item in list(sectors_q4_2019.columns)]\n",
    "new_names = ['L_ACCOMMODATION_19', 'S_ADMIN_SUPPORT_19','A_AG_WILDLIFE_19','L_CULTURAL_REC_19','C_CONSTRUCTION_19',\n",
    "'E_EDUCATION_19','S_FINANCIAL_19','L_RSTRNT_BAR_19','H_HEALTH_CARE_19','S_IT_DATA_19','S_CORPORATE_MGMT_19',\n",
    "'M_MANUFACTURING_19','E_EXTRACTION_19','O_OTHER_19','X_ADJUSTMENTS_19','R_AUTO_PRIVATE_19','S_PROF_TECH_SRV_19',\n",
    "'G_GOVERNMENT_19','S_RENTAL_LEASING_19','R_BUILDING_SUPPLY_19','R_CLOTHING_19','R_ELECTRONICS_19','R_GROCERY_BEV_19',\n",
    "'R_FURNITURE_19','R_GAS_STATIONS_19','R_GENERAL_RETAIL_19','R_HEALTH_RETAIL_19','R_OTHER_RETAIL_19','R_AUTO_RETAIL_19',\n",
    "'R_NONSTORE_RETAIL_19','R_SPORT_HOBBY_19','L_SPECIAL_EVENT_19','W_DISTRIBUTION_19','X_UNKNOWN_19','U_UTILITIES_19',\n",
    "'W_WHLSALE_DURABLE_19','S_WHLSLE_ETRADE_19','W_WHLSLE_NDURABLE_19']\n",
    "sectors_calyr_2019.columns = new_names\n",
    "\n",
    "# drop unknown column since its not present in 2020\n",
    "#sectors_q4_2019.drop('X_UNKNOWN_19', axis=1, inplace=True)\n",
    "#new_names.remove('X_UNKNOWN_19')\n",
    "\n",
    "# get the total sales tax revenue\n",
    "sectors_calyr_2019['TOTAL_19'] = sectors_calyr_2019[new_names].sum(axis=1)\n",
    "\n",
    "sectors_calyr_2019.head()"
   ]
  },
  {
   "cell_type": "markdown",
   "metadata": {},
   "source": [
    "### Calculate the differences \n",
    "*2020 - 2019 = Diff*"
   ]
  },
  {
   "cell_type": "code",
   "execution_count": null,
   "metadata": {},
   "outputs": [],
   "source": [
    "# Check join output shape\n",
    "print(sectors_calyr_2019.shape)\n",
    "print(sectors_calyr_2020.shape)"
   ]
  },
  {
   "cell_type": "code",
   "execution_count": null,
   "metadata": {},
   "outputs": [],
   "source": [
    "# merge the 2019-2020 difference with the sdf\n",
    "sectors_calyr_diff = pd.DataFrame(sectors_calyr_2020.values - sectors_calyr_2019.values)\n",
    "\n",
    "# add back the column names\n",
    "new_names = ['L_ACCOMMODATION_D20', 'S_ADMIN_SUPPORT_D20','A_AG_WILDLIFE_D20','L_CULTURAL_REC_D20','C_CONSTRUCTION_D20',\n",
    "'E_EDUCATION_D20','S_FINANCIAL_D20','L_RSTRNT_BAR_D20','H_HEALTH_CARE_D20','S_IT_DATA_D20','S_CORPORATE_MGMT_D20',\n",
    "'M_MANUFACTURING_D20','E_EXTRACTION_D20','O_OTHER_D20','X_ADJUSTMENTS_D20','R_AUTO_PRIVATE_D20','S_PROF_TECH_SRV_D20',\n",
    "'G_GOVERNMENT_D20','S_RENTAL_LEASING_D20','R_BUILDING_SUPPLY_D20','R_CLOTHING_D20','R_ELECTRONICS_D20','R_GROCERY_BEV_D20',\n",
    "'R_FURNITURE_D20','R_GAS_STATIONS_D20','R_GENERAL_RETAIL_D20','R_HEALTH_RETAIL_D20','R_OTHER_RETAIL_D20','R_AUTO_RETAIL_D20',\n",
    "'R_NONSTORE_RETAIL_D20','R_SPORT_HOBBY_D20','L_SPECIAL_EVENT_D20','W_DISTRIBUTION_D20','X_UNKNOWN_D20','U_UTILITIES_D20',\n",
    "'W_WHLSALE_DURABLE_D20','S_WHLSLE_ETRADE_D20','W_WHLSLE_NDURABLE_D20', 'TOTAL_D20']\n",
    "\n",
    "sectors_calyr_diff.columns = new_names\n",
    "\n",
    "# add back cities as index\n",
    "sectors_calyr_diff['City'] = sectors_calyr_2020.index\n",
    "sectors_calyr_diff = sectors_calyr_diff.set_index('City')\n",
    "\n",
    "#check table\n",
    "sectors_calyr_diff.head(10)"
   ]
  },
  {
   "cell_type": "markdown",
   "metadata": {},
   "source": [
    "### Load municipalities and townships shapefile and join to formatted sales tax data"
   ]
  },
  {
   "cell_type": "code",
   "execution_count": null,
   "metadata": {},
   "outputs": [],
   "source": [
    "# load cities shapefile into pandas spatial dataframe\n",
    "cities_shp = '.\\\\Inputs\\\\Cities.shp'\n",
    "cities_sdf = pd.DataFrame.spatial.from_featureclass(cities_shp)\n",
    "\n",
    "# Rename columns\n",
    "cities_sdf.columns = ['FID', 'NAME', 'SOURCE', 'SALESTAXID', 'POPLASTCEN', 'POPLASTEST',\n",
    "       'AREA_SQMI', 'SHAPE']"
   ]
  },
  {
   "cell_type": "code",
   "execution_count": null,
   "metadata": {},
   "outputs": [],
   "source": [
    "# merge the 2020 sdf with the pivoted data\n",
    "cities_sdf2 = cities_sdf.merge(sectors_calyr_2019, left_on= \"NAME\", right_on=\"City\", how=\"inner\")\n",
    "cities_sdf2 = cities_sdf2.merge(sectors_calyr_2020, left_on= \"NAME\", right_on=\"City\", how=\"inner\")\n",
    "cities_sdf2 = cities_sdf2.merge(sectors_calyr_diff, left_on= \"NAME\", right_on=\"City\", how=\"inner\")\n",
    "cities_sdf2.tail(10)\n"
   ]
  },
  {
   "cell_type": "code",
   "execution_count": null,
   "metadata": {},
   "outputs": [],
   "source": [
    "# Confirm join count, Salt Lake County (Unincorporated) should be the only one not joined\n",
    "l1 = list(calyr_2020['City'].value_counts().index)\n",
    "l2 = list(cities_sdf['NAME'].value_counts().index)\n",
    "list(set(l1) - set(l2))"
   ]
  },
  {
   "cell_type": "code",
   "execution_count": null,
   "metadata": {},
   "outputs": [],
   "source": [
    "# Create file gdb and export sdf to feature class\n",
    "outputs = '.\\\\Outputs'\n",
    "\n",
    "gdb = os.path.join(outputs, \"taxable_sales.gdb\")\n",
    "if not arcpy.Exists(gdb):\n",
    "    arcpy.CreateFileGDB_management(outputs, \"taxable_sales.gdb\")\n",
    "\n",
    "cities_sdf2.spatial.to_featureclass(location=os.path.join(outputs, \"taxable_sales.gdb\",\"taxable_sales_utah_calyr\"))"
   ]
  },
  {
   "cell_type": "markdown",
   "metadata": {},
   "source": [
    "### Analysis"
   ]
  },
  {
   "cell_type": "code",
   "execution_count": null,
   "metadata": {},
   "outputs": [],
   "source": [
    "cities_sdf2"
   ]
  },
  {
   "cell_type": "code",
   "execution_count": null,
   "metadata": {},
   "outputs": [],
   "source": [
    "# Get year specific column names\n",
    "standard_cols = ['FID','NAME','SOURCE','SALESTAXID','POPLASTCEN','POPLASTEST','AREA_SQMI', 'SHAPE']\n",
    "names_19 = standard_cols + [col for col in cities_sdf2.columns if '_19' in col]\n",
    "names_20 = standard_cols + [col for col in cities_sdf2.columns if '_20' in col]\n",
    "names_D20 = standard_cols + [col for col in cities_sdf2.columns if '_D20' in col]\n",
    "\n",
    "# subset columns by time\n",
    "cities_calyr_19 = cities_sdf2[names_19]\n",
    "cities_calyr_20 = cities_sdf2[names_20]\n",
    "cities_calyr_d20 = cities_sdf2[names_D20]\n"
   ]
  },
  {
   "cell_type": "code",
   "execution_count": null,
   "metadata": {},
   "outputs": [],
   "source": [
    "# 10 cities with smallest difference of revenue\n",
    "cities_calyr_d20[['NAME', 'POPLASTCEN', 'AREA_SQMI', 'TOTAL_D20']].sort_values('TOTAL_D20', ascending=False).head(10)"
   ]
  },
  {
   "cell_type": "code",
   "execution_count": null,
   "metadata": {},
   "outputs": [],
   "source": [
    "# 10 cities with largest difference of revenue\n",
    "cities_calyr_d20[['NAME', 'POPLASTCEN', 'AREA_SQMI', 'TOTAL_D20']].sort_values('TOTAL_D20', ascending=True).head(10)"
   ]
  },
  {
   "cell_type": "markdown",
   "metadata": {},
   "source": [
    "#### Some industries of interest:\n",
    "- RETAIL-GASOLINE STATIONS (447)\n",
    "- RETAIL-FOOD & BEVERAGE STORES (445)\n",
    "- REAL ESTATE, RENTAL & LEASING (53)\n",
    "- ARTS, ENTERTAINMENT AND RECREATION (71)\n",
    "- ACCOMMODATION (721)"
   ]
  }
 ],
 "metadata": {
  "kernelspec": {
   "display_name": "Python 3.7.11",
   "language": "python",
   "name": "python3"
  },
  "language_info": {
   "codemirror_mode": {
    "name": "ipython",
    "version": 3
   },
   "file_extension": ".py",
   "mimetype": "text/x-python",
   "name": "python",
   "nbconvert_exporter": "python",
   "pygments_lexer": "ipython3",
   "version": "3.7.11"
  },
  "vscode": {
   "interpreter": {
    "hash": "3245673af07dcc28bdd829afb187282e9288a1f8195a5928b70ecba6e5973721"
   }
  }
 },
 "nbformat": 4,
 "nbformat_minor": 4
}
